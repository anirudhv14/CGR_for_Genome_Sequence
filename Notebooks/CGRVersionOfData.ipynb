{
 "cells": [
  {
   "cell_type": "code",
   "execution_count": 1,
   "metadata": {},
   "outputs": [],
   "source": [
    "import pandas as pd\n",
    "import numpy as np\n",
    "import matplotlib as cm\n",
    "import matplotlib.pyplot as plt\n",
    "import pylab\n",
    "import collections\n",
    "import math"
   ]
  },
  {
   "cell_type": "code",
   "execution_count": 2,
   "metadata": {},
   "outputs": [],
   "source": [
    "def count_kmers(sequence, k):\n",
    "    d = collections.defaultdict(int)\n",
    "    for i in range(len(data)-(k-1)):\n",
    "        d[sequence[i:i+k]] +=1\n",
    "    for key in d.copy().keys():\n",
    "        if \"N\" in key:\n",
    "            del d[key]\n",
    "    return d"
   ]
  },
  {
   "cell_type": "code",
   "execution_count": 3,
   "metadata": {},
   "outputs": [],
   "source": [
    "def probabilities(kmer_count, k):\n",
    "    probabilities = collections.defaultdict(float)\n",
    "    N = len(data)\n",
    "    for key, value in kmer_count.items():\n",
    "        probabilities[key] = float(value) / (N - k + 1)\n",
    "    return probabilities"
   ]
  },
  {
   "cell_type": "code",
   "execution_count": 4,
   "metadata": {},
   "outputs": [],
   "source": [
    "def chaos_game_representation(probabilities, k):\n",
    "    array_size = int(math.sqrt(4**k))\n",
    "    chaos = []\n",
    "    for i in range(array_size):\n",
    "        chaos.append([0]*array_size)\n",
    "#     print(chaos)\n",
    "    maxx = array_size\n",
    "    maxy = array_size\n",
    "    posx = 1\n",
    "    posy = 1\n",
    "    for key, value in probabilities.items():\n",
    "        for char in key:\n",
    "            if char == \"T\":\n",
    "                posx += int(maxx / 2)\n",
    "            elif char == \"C\":\n",
    "                posy += int(maxy / 2)\n",
    "            elif char == \"G\":\n",
    "                posx += int(maxx / 2)\n",
    "                posy += int(maxy / 2)\n",
    "            maxx = maxx / 2\n",
    "            maxy /= 2\n",
    "#         print(posx,posy)\n",
    "        chaos[posy-1][posx-1] = value\n",
    "        maxx = array_size\n",
    "        maxy = array_size\n",
    "        posx = 1\n",
    "        posy = 1\n",
    "    \n",
    "    return chaos"
   ]
  },
  {
   "cell_type": "markdown",
   "metadata": {},
   "source": [
    "# Covid USA Data CGR"
   ]
  },
  {
   "cell_type": "code",
   "execution_count": 16,
   "metadata": {},
   "outputs": [],
   "source": [
    "with open(r'C:\\Users\\aniru\\Desktop\\Amrita\\Sem 4\\Intelligence of Biological Systems\\Project\\Data\\BetaCoV_USA.txt') as f:\n",
    "    data = f.readlines()"
   ]
  },
  {
   "cell_type": "code",
   "execution_count": 17,
   "metadata": {},
   "outputs": [],
   "source": [
    "data = data[0]"
   ]
  },
  {
   "cell_type": "code",
   "execution_count": 18,
   "metadata": {
    "scrolled": false
   },
   "outputs": [
    {
     "data": {
      "image/png": "[encoded data removed]",
      "text/plain": [
       "<Figure size 432x288 with 1 Axes>"
      ]
     },
     "metadata": {
      "needs_background": "light"
     },
     "output_type": "display_data"
    },
    {
     "data": {
      "image/png": "[encoded data removed]",
      "text/plain": [
       "<Figure size 432x288 with 1 Axes>"
      ]
     },
     "metadata": {
      "needs_background": "light"
     },
     "output_type": "display_data"
    }
   ],
   "source": [
    "f3 = count_kmers(data, 3)\n",
    "f4 = count_kmers(data, 4)\n",
    " \n",
    "f3_prob = probabilities(f3, 3)\n",
    "f4_prob = probabilities(f4, 4)\n",
    " \n",
    "chaos_k3 = chaos_game_representation(f3_prob, 3)\n",
    "pylab.title('Chaos game representation for 3-mers')\n",
    "pylab.imshow(chaos_k3, interpolation='nearest', cmap=plt.gray())\n",
    "pylab.show()\n",
    " \n",
    "chaos_k4 = chaos_game_representation(f4_prob, 4)\n",
    "pylab.title('Chaos game representation for 4-mers')\n",
    "pylab.imshow(chaos_k4, interpolation='nearest', cmap=plt.gray())\n",
    "pylab.show()"
   ]
  },
  {
   "cell_type": "markdown",
   "metadata": {},
   "source": [
    "# Covid Wuhan Data CGR"
   ]
  },
  {
   "cell_type": "code",
   "execution_count": 8,
   "metadata": {},
   "outputs": [],
   "source": [
    "with open(r'C:\\Users\\aniru\\Desktop\\Amrita\\Sem 4\\Intelligence of Biological Systems\\Project\\Data\\BetaCoV_Wuhan.txt') as f:\n",
    "    data = f.readlines()"
   ]
  },
  {
   "cell_type": "code",
   "execution_count": 9,
   "metadata": {},
   "outputs": [],
   "source": [
    "data = data[0]"
   ]
  },
  {
   "cell_type": "code",
   "execution_count": 10,
   "metadata": {
    "scrolled": false
   },
   "outputs": [
    {
     "data": {
      "image/png": "[encoded data removed]",
      "text/plain": [
       "<Figure size 432x288 with 1 Axes>"
      ]
     },
     "metadata": {
      "needs_background": "light"
     },
     "output_type": "display_data"
    },
    {
     "data": {
      "image/png": "[encoded data removed]",
      "text/plain": [
       "<Figure size 432x288 with 1 Axes>"
      ]
     },
     "metadata": {
      "needs_background": "light"
     },
     "output_type": "display_data"
    }
   ],
   "source": [
    "f3 = count_kmers(data, 3)\n",
    "f4 = count_kmers(data, 4)\n",
    " \n",
    "f3_prob = probabilities(f3, 3)\n",
    "f4_prob = probabilities(f4, 4)\n",
    " \n",
    "chaos_k3 = chaos_game_representation(f3_prob, 3)\n",
    "pylab.title('Chaos game representation for 3-mers')\n",
    "pylab.imshow(chaos_k3, interpolation='nearest', cmap=plt.gray())\n",
    "pylab.show()\n",
    " \n",
    "chaos_k4 = chaos_game_representation(f4_prob, 4)\n",
    "pylab.title('Chaos game representation for 4-mers')\n",
    "pylab.imshow(chaos_k4, interpolation='nearest', cmap=plt.gray())\n",
    "pylab.show()"
   ]
  },
  {
   "cell_type": "markdown",
   "metadata": {},
   "source": [
    "# NC_012920 Data CGR\n",
    "Homo sapiens mitochondrion, complete genome"
   ]
  },
  {
   "cell_type": "code",
   "execution_count": 5,
   "metadata": {},
   "outputs": [],
   "source": [
    "with open(r'C:\\Users\\aniru\\Desktop\\Amrita\\Sem 4\\Intelligence of Biological Systems\\Project\\Data\\NC_012920.txt') as f:\n",
    "    data = f.readlines()"
   ]
  },
  {
   "cell_type": "code",
   "execution_count": 6,
   "metadata": {},
   "outputs": [],
   "source": [
    "ctr = 0\n",
    "data1 = []\n",
    "for i in data:\n",
    "    data1.extend([i[0:-1]])\n",
    "    ctr += 1\n",
    "data = \"\"\n",
    "for i in data1:\n",
    "    data += i\n",
    "data = data.upper()"
   ]
  },
  {
   "cell_type": "code",
   "execution_count": 7,
   "metadata": {},
   "outputs": [
    {
     "data": {
      "image/png": "[encoded data removed]",
      "text/plain": [
       "<Figure size 432x288 with 1 Axes>"
      ]
     },
     "metadata": {
      "needs_background": "light"
     },
     "output_type": "display_data"
    },
    {
     "data": {
      "image/png": "[encoded data removed]",
      "text/plain": [
       "<Figure size 432x288 with 1 Axes>"
      ]
     },
     "metadata": {
      "needs_background": "light"
     },
     "output_type": "display_data"
    }
   ],
   "source": [
    "f3 = count_kmers(data, 3)\n",
    "f4 = count_kmers(data, 4)\n",
    " \n",
    "f3_prob = probabilities(f3, 3)\n",
    "f4_prob = probabilities(f4, 4)\n",
    " \n",
    "chaos_k3 = chaos_game_representation(f3_prob, 3)\n",
    "pylab.title('Chaos game representation for 3-mers')\n",
    "pylab.imshow(chaos_k3, interpolation='nearest', cmap=plt.gray())\n",
    "pylab.show()\n",
    " \n",
    "chaos_k4 = chaos_game_representation(f4_prob, 4)\n",
    "pylab.title('Chaos game representation for 4-mers')\n",
    "pylab.imshow(chaos_k4, interpolation='nearest', cmap=plt.gray())\n",
    "pylab.show()"
   ]
  }
 ],
 "metadata": {
  "kernelspec": {
   "display_name": "Python 3",
   "language": "python",
   "name": "python3"
  },
  "language_info": {
   "codemirror_mode": {
    "name": "ipython",
    "version": 3
   },
   "file_extension": ".py",
   "mimetype": "text/x-python",
   "name": "python",
   "nbconvert_exporter": "python",
   "pygments_lexer": "ipython3",
   "version": "3.9.1"
  }
 },
 "nbformat": 4,
 "nbformat_minor": 2
}
