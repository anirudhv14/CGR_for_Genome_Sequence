{
 "cells": [
  {
   "cell_type": "code",
   "execution_count": 28,
   "metadata": {},
   "outputs": [],
   "source": [
    "import pandas as pd\n",
    "import numpy as np\n",
    "import matplotlib as cm\n",
    "import matplotlib.pyplot as plt\n",
    "import pylab\n",
    "import collections\n",
    "import math\n",
    "import os\n",
    "import glob"
   ]
  },
  {
   "cell_type": "code",
   "execution_count": 29,
   "metadata": {},
   "outputs": [
    {
     "data": {
      "text/plain": [
       "'C:\\\\Users\\\\aniru\\\\Desktop\\\\Amrita\\\\Sem 4\\\\Intelligence of Biological Systems\\\\Project\\\\CGR_for_Genome_Sequence'"
      ]
     },
     "execution_count": 29,
     "metadata": {},
     "output_type": "execute_result"
    }
   ],
   "source": [
    "os.chdir('..')\n",
    "os.getcwd()"
   ]
  },
  {
   "cell_type": "code",
   "execution_count": 30,
   "metadata": {},
   "outputs": [],
   "source": [
    "def count_kmers(sequence, k):\n",
    "    d = collections.defaultdict(int)\n",
    "    for i in range(len(data)-(k-1)):\n",
    "        d[sequence[i:i+k]] +=1\n",
    "    for key in d.copy().keys():\n",
    "        if \"N\" in key:\n",
    "            del d[key]\n",
    "    return d"
   ]
  },
  {
   "cell_type": "code",
   "execution_count": 31,
   "metadata": {},
   "outputs": [],
   "source": [
    "def probabilities(kmer_count, k):\n",
    "    probabilities = collections.defaultdict(float)\n",
    "    N = len(data)\n",
    "    for key, value in kmer_count.items():\n",
    "        probabilities[key] = float(value) / (N - k + 1)\n",
    "    return probabilities"
   ]
  },
  {
   "cell_type": "code",
   "execution_count": 32,
   "metadata": {},
   "outputs": [],
   "source": [
    "def chaos_game_representation(probabilities, k):\n",
    "    array_size = int(math.sqrt(4**k))\n",
    "    chaos = []\n",
    "    for i in range(array_size):\n",
    "        chaos.append([0]*array_size)\n",
    "#     print(chaos)\n",
    "    maxx = array_size\n",
    "    maxy = array_size\n",
    "    posx = 1\n",
    "    posy = 1\n",
    "    for key, value in probabilities.items():\n",
    "        for char in key:\n",
    "            if char == \"T\":\n",
    "                posx += int(maxx / 2)\n",
    "            elif char == \"C\":\n",
    "                posy += int(maxy / 2)\n",
    "            elif char == \"G\":\n",
    "                posx += int(maxx / 2)\n",
    "                posy += int(maxy / 2)\n",
    "            maxx = maxx / 2\n",
    "            maxy /= 2\n",
    "#         print(posx,posy)\n",
    "        chaos[posy-1][posx-1] = value\n",
    "        maxx = array_size\n",
    "        maxy = array_size\n",
    "        posx = 1\n",
    "        posy = 1\n",
    "    \n",
    "    return chaos"
   ]
  },
  {
   "cell_type": "markdown",
   "metadata": {},
   "source": [
    "# Covid USA Data CGR"
   ]
  },
  {
   "cell_type": "code",
   "execution_count": 33,
   "metadata": {},
   "outputs": [],
   "source": [
    "path = os.path.join(os.getcwd(), 'Data', 'BetaCoV_USA.txt')\n",
    "with open(path) as f:\n",
    "    data = f.readlines()"
   ]
  },
  {
   "cell_type": "code",
   "execution_count": 34,
   "metadata": {},
   "outputs": [],
   "source": [
    "data = data[0]"
   ]
  },
  {
   "cell_type": "code",
   "execution_count": 35,
   "metadata": {
    "scrolled": false
   },
   "outputs": [
    {
     "data": {
      "image/png": "[encoded data removed]",
      "text/plain": [
       "<Figure size 432x288 with 1 Axes>"
      ]
     },
     "metadata": {
      "needs_background": "light"
     },
     "output_type": "display_data"
    },
    {
     "data": {
      "image/png": "[encoded data removed]",
      "text/plain": [
       "<Figure size 432x288 with 1 Axes>"
      ]
     },
     "metadata": {
      "needs_background": "light"
     },
     "output_type": "display_data"
    }
   ],
   "source": [
    "f3 = count_kmers(data, 3)\n",
    "f4 = count_kmers(data, 4)\n",
    " \n",
    "f3_prob = probabilities(f3, 3)\n",
    "f4_prob = probabilities(f4, 4)\n",
    " \n",
    "chaos_k3 = chaos_game_representation(f3_prob, 3)\n",
    "pylab.title('Chaos game representation for 3-mers')\n",
    "pylab.imshow(chaos_k3, interpolation='nearest', cmap=plt.gray())\n",
    "pylab.show()\n",
    " \n",
    "chaos_k4 = chaos_game_representation(f4_prob, 4)\n",
    "pylab.title('Chaos game representation for 4-mers')\n",
    "pylab.imshow(chaos_k4, interpolation='nearest', cmap=plt.gray())\n",
    "pylab.show()"
   ]
  },
  {
   "cell_type": "markdown",
   "metadata": {},
   "source": [
    "# Covid Wuhan Data CGR"
   ]
  },
  {
   "cell_type": "code",
   "execution_count": 36,
   "metadata": {},
   "outputs": [],
   "source": [
    "path = os.path.join(os.getcwd(), 'Data', 'BetaCoV_Wuhan.txt')\n",
    "with open(path) as f:\n",
    "    data = f.readlines()"
   ]
  },
  {
   "cell_type": "code",
   "execution_count": 37,
   "metadata": {},
   "outputs": [],
   "source": [
    "data = data[0]"
   ]
  },
  {
   "cell_type": "code",
   "execution_count": 38,
   "metadata": {
    "scrolled": false
   },
   "outputs": [
    {
     "data": {
      "image/png": "[encoded data removed]",
      "text/plain": [
       "<Figure size 432x288 with 1 Axes>"
      ]
     },
     "metadata": {
      "needs_background": "light"
     },
     "output_type": "display_data"
    },
    {
     "data": {
      "image/png": "[encoded data removed]",
      "text/plain": [
       "<Figure size 432x288 with 1 Axes>"
      ]
     },
     "metadata": {
      "needs_background": "light"
     },
     "output_type": "display_data"
    }
   ],
   "source": [
    "f3 = count_kmers(data, 3)\n",
    "f4 = count_kmers(data, 4)\n",
    " \n",
    "f3_prob = probabilities(f3, 3)\n",
    "f4_prob = probabilities(f4, 4)\n",
    " \n",
    "chaos_k3 = chaos_game_representation(f3_prob, 3)\n",
    "pylab.title('Chaos game representation for 3-mers')\n",
    "pylab.imshow(chaos_k3, interpolation='nearest', cmap=plt.gray())\n",
    "pylab.show()\n",
    " \n",
    "chaos_k4 = chaos_game_representation(f4_prob, 4)\n",
    "pylab.title('Chaos game representation for 4-mers')\n",
    "pylab.imshow(chaos_k4, interpolation='nearest', cmap=plt.gray())\n",
    "pylab.show()"
   ]
  },
  {
   "cell_type": "markdown",
   "metadata": {},
   "source": [
    "# NC_012920 Data CGR\n",
    "Homo sapiens mitochondrion, complete genome"
   ]
  },
  {
   "cell_type": "code",
   "execution_count": 39,
   "metadata": {},
   "outputs": [],
   "source": [
    "path = os.path.join(os.getcwd(), 'Data', 'NC_012920.txt')\n",
    "with open(path) as f:\n",
    "    data = f.readlines()"
   ]
  },
  {
   "cell_type": "code",
   "execution_count": 40,
   "metadata": {},
   "outputs": [],
   "source": [
    "ctr = 0\n",
    "data1 = []\n",
    "for i in data:\n",
    "    data1.extend([i[0:-1]])\n",
    "    ctr += 1\n",
    "data = \"\"\n",
    "for i in data1:\n",
    "    data += i\n",
    "data = data.upper()"
   ]
  },
  {
   "cell_type": "code",
   "execution_count": 41,
   "metadata": {},
   "outputs": [
    {
     "data": {
      "image/png": "[encoded data removed]",
      "text/plain": [
       "<Figure size 432x288 with 1 Axes>"
      ]
     },
     "metadata": {
      "needs_background": "light"
     },
     "output_type": "display_data"
    },
    {
     "data": {
      "image/png": "[encoded data removed]",
      "text/plain": [
       "<Figure size 432x288 with 1 Axes>"
      ]
     },
     "metadata": {
      "needs_background": "light"
     },
     "output_type": "display_data"
    }
   ],
   "source": [
    "f3 = count_kmers(data, 3)\n",
    "f4 = count_kmers(data, 4)\n",
    " \n",
    "f3_prob = probabilities(f3, 3)\n",
    "f4_prob = probabilities(f4, 4)\n",
    " \n",
    "chaos_k3 = chaos_game_representation(f3_prob, 3)\n",
    "pylab.title('Chaos game representation for 3-mers')\n",
    "pylab.imshow(chaos_k3, interpolation='nearest', cmap=plt.gray())\n",
    "pylab.show()\n",
    " \n",
    "chaos_k4 = chaos_game_representation(f4_prob, 4)\n",
    "pylab.title('Chaos game representation for 4-mers')\n",
    "pylab.imshow(chaos_k4, interpolation='nearest', cmap=plt.gray())\n",
    "pylab.show()"
   ]
  },
  {
   "cell_type": "markdown",
   "metadata": {},
   "source": [
    "# CGR Scatter plot function"
   ]
  },
  {
   "cell_type": "code",
   "execution_count": 42,
   "metadata": {},
   "outputs": [],
   "source": [
    "def scatterPlt(d):\n",
    "    x = [0]\n",
    "    y = [0]\n",
    "    for i in d:\n",
    "        if(i == 'A' or i == 'a'):\n",
    "            x11 = (x[-1]+1)/2\n",
    "            y11 = (y[-1]+1)/2\n",
    "            x.append(x11)\n",
    "            y.append(y11)\n",
    "        elif(i == 'T' or i == 't'):\n",
    "            x11 = (x[-1]-1)/2\n",
    "            y11 = (y[-1]+1)/2\n",
    "            x.append(x11)\n",
    "            y.append(y11)\n",
    "        elif(i == 'C' or i == 'c'):\n",
    "            x11 = (x[-1]-1)/2\n",
    "            y11 = (y[-1]-1)/2\n",
    "            x.append(x11)\n",
    "            y.append(y11)\n",
    "        elif(i == 'G' or i == 'g'):\n",
    "            x11 = (x[-1]+1)/2\n",
    "            y11 = (y[-1]-1)/2\n",
    "            x.append(x11)\n",
    "            y.append(y11)\n",
    "    return x,y"
   ]
  },
  {
   "cell_type": "code",
   "execution_count": 43,
   "metadata": {},
   "outputs": [
    {
     "data": {
      "text/plain": [
       "<matplotlib.collections.PathCollection at 0x17ea1449af0>"
      ]
     },
     "execution_count": 43,
     "metadata": {},
     "output_type": "execute_result"
    },
    {
     "data": {
      "image/png": "[encoded data removed]",
      "text/plain": [
       "<Figure size 432x288 with 1 Axes>"
      ]
     },
     "metadata": {
      "needs_background": "light"
     },
     "output_type": "display_data"
    }
   ],
   "source": [
    "x,y = scatterPlt(data)\n",
    "plt.scatter(x,y)"
   ]
  },
  {
   "cell_type": "markdown",
   "metadata": {},
   "source": [
    "# Data Congruence"
   ]
  },
  {
   "cell_type": "code",
   "execution_count": 44,
   "metadata": {},
   "outputs": [],
   "source": [
    "path = os.path.join(os.getcwd(), 'Sequence_Data', '2019-nCoV.csv')\n",
    "dd = pd.read_csv(path, header=None)"
   ]
  },
  {
   "cell_type": "markdown",
   "metadata": {},
   "source": [
    "# Reading all the Sequence data into a dictionary"
   ]
  },
  {
   "cell_type": "code",
   "execution_count": 45,
   "metadata": {},
   "outputs": [],
   "source": [
    "path = os.path.join(os.getcwd(), 'Sequence_Data')\n",
    "extension = 'csv'\n",
    "os.chdir(path)\n",
    "result = glob.glob('*.{}'.format(extension))\n",
    "csvFileNames = [names.split('.')[0] for names in result]"
   ]
  },
  {
   "cell_type": "code",
   "execution_count": 46,
   "metadata": {},
   "outputs": [],
   "source": [
    "def get_csv(path, fileName):\n",
    "    print(fileName)\n",
    "    fileName+=\".csv\"\n",
    "    data = pd.read_csv(path+'\\\\'+fileName, header=None)\n",
    "    return data"
   ]
  },
  {
   "cell_type": "code",
   "execution_count": 47,
   "metadata": {},
   "outputs": [],
   "source": [
    "path1 = os.getcwd()"
   ]
  },
  {
   "cell_type": "code",
   "execution_count": 48,
   "metadata": {},
   "outputs": [
    {
     "data": {
      "text/plain": [
       "'C:\\\\Users\\\\aniru\\\\Desktop\\\\Amrita\\\\Sem 4\\\\Intelligence of Biological Systems\\\\Project\\\\CGR_for_Genome_Sequence\\\\Sequence_Data'"
      ]
     },
     "execution_count": 48,
     "metadata": {},
     "output_type": "execute_result"
    }
   ],
   "source": [
    "os.getcwd()"
   ]
  },
  {
   "cell_type": "code",
   "execution_count": 49,
   "metadata": {},
   "outputs": [
    {
     "data": {
      "text/plain": [
       "'C:\\\\Users\\\\aniru\\\\Desktop\\\\Amrita\\\\Sem 4\\\\Intelligence of Biological Systems\\\\Project\\\\CGR_for_Genome_Sequence\\\\Sequence_Data'"
      ]
     },
     "execution_count": 49,
     "metadata": {},
     "output_type": "execute_result"
    }
   ],
   "source": [
    "path1"
   ]
  },
  {
   "cell_type": "code",
   "execution_count": 50,
   "metadata": {
    "scrolled": true
   },
   "outputs": [
    {
     "name": "stdout",
     "output_type": "stream",
     "text": [
      "2019-nCoV\n",
      "Adenoviridae\n",
      "Alphacoronavirus\n",
      "Alphacoronavirus1\n",
      "Anelloviridae\n",
      "Betacoronavirus\n",
      "Betacoronavirus2\n",
      "Betaflexiviridae\n",
      "Bromoviridae\n",
      "Calciviridae\n",
      "Caudovirales\n",
      "Coronaviridae\n",
      "Deltacoronavirus\n",
      "Deltacoronavirus3\n",
      "Embecovirus\n",
      "Embecovirus1\n",
      "Flaviviridae\n",
      "Gammacoronavirus\n",
      "Geminiviridae\n",
      "Genomoviridae\n",
      "Merbecovirus\n",
      "Merbecovirus1\n",
      "Microviridae\n",
      "Nobecovirus\n",
      "Nobecovirus1\n",
      "Ortervirales\n",
      "Papillomaviridae\n",
      "Parvoviridae\n",
      "Peribunyaviridae\n",
      "Phenuiviridae\n",
      "Picornaviridae\n",
      "Polydnaviridae\n",
      "Polyomaviridae\n",
      "Potyviridae\n",
      "Reoviridae\n",
      "Rhabdoviridae\n",
      "Riboviria\n",
      "Sarbecovirus\n",
      "Sarbecovirus1\n",
      "Sarbecovirus2\n",
      "Secoviridae\n"
     ]
    }
   ],
   "source": [
    "SequenceData = {csvFileName:get_csv(path1,csvFileName) for csvFileName in csvFileNames}"
   ]
  },
  {
   "cell_type": "code",
   "execution_count": 51,
   "metadata": {
    "scrolled": true
   },
   "outputs": [
    {
     "name": "stdout",
     "output_type": "stream",
     "text": [
      "Possible csv file names: ['2019-nCoV', 'Adenoviridae', 'Alphacoronavirus', 'Alphacoronavirus1', 'Anelloviridae', 'Betacoronavirus', 'Betacoronavirus2', 'Betaflexiviridae', 'Bromoviridae', 'Calciviridae', 'Caudovirales', 'Coronaviridae', 'Deltacoronavirus', 'Deltacoronavirus3', 'Embecovirus', 'Embecovirus1', 'Flaviviridae', 'Gammacoronavirus', 'Geminiviridae', 'Genomoviridae', 'Merbecovirus', 'Merbecovirus1', 'Microviridae', 'Nobecovirus', 'Nobecovirus1', 'Ortervirales', 'Papillomaviridae', 'Parvoviridae', 'Peribunyaviridae', 'Phenuiviridae', 'Picornaviridae', 'Polydnaviridae', 'Polyomaviridae', 'Potyviridae', 'Reoviridae', 'Rhabdoviridae', 'Riboviria', 'Sarbecovirus', 'Sarbecovirus1', 'Sarbecovirus2', 'Secoviridae']\n"
     ]
    }
   ],
   "source": [
    "print('Possible csv file names:',list(SequenceData.keys()))"
   ]
  },
  {
   "cell_type": "code",
   "execution_count": 52,
   "metadata": {},
   "outputs": [],
   "source": [
    "SeqCleaned = {}\n",
    "for key in SequenceData.keys():\n",
    "    SeqCleaned[key] = SequenceData[key].set_index(0)"
   ]
  },
  {
   "cell_type": "code",
   "execution_count": 53,
   "metadata": {
    "scrolled": true
   },
   "outputs": [],
   "source": [
    "def select_Data(SeqCleaned, SequecnceData, famName):\n",
    "    print('Options:')\n",
    "    a1 = list(SequenceData[famName][0])\n",
    "    for i in a1:\n",
    "        print(i)\n",
    "    inp = input()\n",
    "    data = SeqCleaned[famName].loc[inp][1]\n",
    "    return data"
   ]
  },
  {
   "cell_type": "code",
   "execution_count": 54,
   "metadata": {},
   "outputs": [],
   "source": [
    "# data = select_Data(SeqCleaned, SequenceData, 'Reoviridae')"
   ]
  },
  {
   "cell_type": "code",
   "execution_count": 55,
   "metadata": {},
   "outputs": [
    {
     "data": {
      "text/plain": [
       "<Figure size 432x288 with 0 Axes>"
      ]
     },
     "execution_count": 55,
     "metadata": {},
     "output_type": "execute_result"
    },
    {
     "data": {
      "image/png": "[encoded data removed]",
      "text/plain": [
       "<Figure size 432x288 with 1 Axes>"
      ]
     },
     "metadata": {
      "needs_background": "light"
     },
     "output_type": "display_data"
    },
    {
     "data": {
      "text/plain": [
       "<Figure size 432x288 with 0 Axes>"
      ]
     },
     "metadata": {},
     "output_type": "display_data"
    }
   ],
   "source": [
    "# NC_043370.1 Diadromus pulchellus reovirus ORF1\n",
    "x,y = scatterPlt(data)\n",
    "plt.scatter(x,y)\n",
    "plt.title('NC_043370.1 Diadromus pulchellus reovirus ORF1')\n",
    "plt.figure()"
   ]
  },
  {
   "cell_type": "code",
   "execution_count": 56,
   "metadata": {},
   "outputs": [],
   "source": [
    "def plotAll(SeqCleaned, SequecnceData, famName):\n",
    "    a1 = list(SequenceData[famName][0])\n",
    "    for i in a1:\n",
    "        inp = i\n",
    "        data = SeqCleaned[famName].loc[inp][1]\n",
    "        x,y = scatterPlt(data)\n",
    "        plt.scatter(x,y)\n",
    "        plt.title(i)\n",
    "        plt.figure()\n",
    "    return len(a1)"
   ]
  },
  {
   "cell_type": "code",
   "execution_count": 57,
   "metadata": {},
   "outputs": [],
   "source": [
    "# ll = plotAll(SeqCleaned, SequenceData, 'Reoviridae')"
   ]
  }
 ],
 "metadata": {
  "kernelspec": {
   "display_name": "Python 3",
   "language": "python",
   "name": "python3"
  },
  "language_info": {
   "codemirror_mode": {
    "name": "ipython",
    "version": 3
   },
   "file_extension": ".py",
   "mimetype": "text/x-python",
   "name": "python",
   "nbconvert_exporter": "python",
   "pygments_lexer": "ipython3",
   "version": "3.9.1"
  }
 },
 "nbformat": 4,
 "nbformat_minor": 2
}
