{
 "cells": [
  {
   "cell_type": "code",
   "execution_count": 15,
   "metadata": {},
   "outputs": [],
   "source": [
    "import pandas as pd\n",
    "import numpy as np\n",
    "import matplotlib as cm\n",
    "import matplotlib.pyplot as plt\n",
    "import pylab\n",
    "import collections\n",
    "import math"
   ]
  },
  {
   "cell_type": "code",
   "execution_count": 2,
   "metadata": {},
   "outputs": [],
   "source": [
    "def count_kmers(sequence, k):\n",
    "    d = collections.defaultdict(int)\n",
    "    for i in range(len(data)-(k-1)):\n",
    "        d[sequence[i:i+k]] +=1\n",
    "    for key in d.copy().keys():\n",
    "        if \"N\" in key:\n",
    "            del d[key]\n",
    "    return d"
   ]
  },
  {
   "cell_type": "code",
   "execution_count": 3,
   "metadata": {},
   "outputs": [],
   "source": [
    "def probabilities(kmer_count, k):\n",
    "    probabilities = collections.defaultdict(float)\n",
    "    N = len(data)\n",
    "    for key, value in kmer_count.items():\n",
    "        probabilities[key] = float(value) / (N - k + 1)\n",
    "    return probabilities"
   ]
  },
  {
   "cell_type": "code",
   "execution_count": 4,
   "metadata": {},
   "outputs": [],
   "source": [
    "def chaos_game_representation(probabilities, k):\n",
    "    array_size = int(math.sqrt(4**k))\n",
    "    chaos = []\n",
    "    for i in range(array_size):\n",
    "        chaos.append([0]*array_size)\n",
    "#     print(chaos)\n",
    "    maxx = array_size\n",
    "    maxy = array_size\n",
    "    posx = 1\n",
    "    posy = 1\n",
    "    for key, value in probabilities.items():\n",
    "        for char in key:\n",
    "            if char == \"T\":\n",
    "                posx += int(maxx / 2)\n",
    "            elif char == \"C\":\n",
    "                posy += int(maxy / 2)\n",
    "            elif char == \"G\":\n",
    "                posx += int(maxx / 2)\n",
    "                posy += int(maxy / 2)\n",
    "            maxx = maxx / 2\n",
    "            maxy /= 2\n",
    "#         print(posx,posy)\n",
    "        chaos[posy-1][posx-1] = value\n",
    "        maxx = array_size\n",
    "        maxy = array_size\n",
    "        posx = 1\n",
    "        posy = 1\n",
    "    \n",
    "    return chaos"
   ]
  },
  {
   "cell_type": "markdown",
   "metadata": {},
   "source": [
    "# Covid USA Data CGR"
   ]
  },
  {
   "cell_type": "code",
   "execution_count": 11,
   "metadata": {},
   "outputs": [],
   "source": [
    "with open(r'C:\\Users\\aniru\\Desktop\\Amrita\\Sem 4\\Intelligence of Biological Systems\\Project\\Data\\BetaCoV_USA.txt') as f:\n",
    "    data = f.readlines()"
   ]
  },
  {
   "cell_type": "code",
   "execution_count": 12,
   "metadata": {},
   "outputs": [],
   "source": [
    "data = data[0]"
   ]
  },
  {
   "cell_type": "code",
   "execution_count": 18,
   "metadata": {
    "scrolled": false
   },
   "outputs": [
    {
     "data": {
      "image/png": "[encoded data removed]",
      "text/plain": [
       "<Figure size 432x288 with 1 Axes>"
      ]
     },
     "metadata": {
      "needs_background": "light"
     },
     "output_type": "display_data"
    },
    {
     "data": {
      "image/png": "[encoded data removed]",
      "text/plain": [
       "<Figure size 432x288 with 1 Axes>"
      ]
     },
     "metadata": {
      "needs_background": "light"
     },
     "output_type": "display_data"
    }
   ],
   "source": [
    "f3 = count_kmers(data, 3)\n",
    "f4 = count_kmers(data, 4)\n",
    " \n",
    "f3_prob = probabilities(f3, 3)\n",
    "f4_prob = probabilities(f4, 4)\n",
    " \n",
    "chaos_k3 = chaos_game_representation(f3_prob, 3)\n",
    "pylab.title('Chaos game representation for 3-mers')\n",
    "pylab.imshow(chaos_k3, interpolation='nearest', cmap=plt.gray())\n",
    "pylab.show()\n",
    " \n",
    "chaos_k4 = chaos_game_representation(f4_prob, 4)\n",
    "pylab.title('Chaos game representation for 4-mers')\n",
    "pylab.imshow(chaos_k4, interpolation='nearest', cmap=plt.gray())\n",
    "pylab.show()"
   ]
  },
  {
   "cell_type": "markdown",
   "metadata": {},
   "source": [
    "# Covid Wuhan Data CGR"
   ]
  },
  {
   "cell_type": "code",
   "execution_count": 24,
   "metadata": {},
   "outputs": [],
   "source": [
    "with open(r'C:\\Users\\aniru\\Desktop\\Amrita\\Sem 4\\Intelligence of Biological Systems\\Project\\Data\\BetaCoV_Wuhan.txt') as f:\n",
    "    data = f.readlines()"
   ]
  },
  {
   "cell_type": "code",
   "execution_count": 25,
   "metadata": {},
   "outputs": [],
   "source": [
    "data = data[0]"
   ]
  },
  {
   "cell_type": "code",
   "execution_count": 10,
   "metadata": {
    "scrolled": false
   },
   "outputs": [
    {
     "data": {
      "image/png": "[encoded data removed]",
      "text/plain": [
       "<Figure size 432x288 with 1 Axes>"
      ]
     },
     "metadata": {
      "needs_background": "light"
     },
     "output_type": "display_data"
    },
    {
     "data": {
      "image/png": "[encoded data removed]",
      "text/plain": [
       "<Figure size 432x288 with 1 Axes>"
      ]
     },
     "metadata": {
      "needs_background": "light"
     },
     "output_type": "display_data"
    }
   ],
   "source": [
    "f3 = count_kmers(data, 3)\n",
    "f4 = count_kmers(data, 4)\n",
    " \n",
    "f3_prob = probabilities(f3, 3)\n",
    "f4_prob = probabilities(f4, 4)\n",
    " \n",
    "chaos_k3 = chaos_game_representation(f3_prob, 3)\n",
    "pylab.title('Chaos game representation for 3-mers')\n",
    "pylab.imshow(chaos_k3, interpolation='nearest', cmap=plt.gray())\n",
    "pylab.show()\n",
    " \n",
    "chaos_k4 = chaos_game_representation(f4_prob, 4)\n",
    "pylab.title('Chaos game representation for 4-mers')\n",
    "pylab.imshow(chaos_k4, interpolation='nearest', cmap=plt.gray())\n",
    "pylab.show()"
   ]
  },
  {
   "cell_type": "markdown",
   "metadata": {},
   "source": [
    "# NC_012920 Data CGR\n",
    "Homo sapiens mitochondrion, complete genome"
   ]
  },
  {
   "cell_type": "code",
   "execution_count": 27,
   "metadata": {},
   "outputs": [],
   "source": [
    "with open(r'C:\\Users\\aniru\\Desktop\\Amrita\\Sem 4\\Intelligence of Biological Systems\\Project\\Data\\NC_012920.txt') as f:\n",
    "    data = f.readlines()"
   ]
  },
  {
   "cell_type": "code",
   "execution_count": 28,
   "metadata": {},
   "outputs": [],
   "source": [
    "ctr = 0\n",
    "data1 = []\n",
    "for i in data:\n",
    "    data1.extend([i[0:-1]])\n",
    "    ctr += 1\n",
    "data = \"\"\n",
    "for i in data1:\n",
    "    data += i\n",
    "data = data.upper()"
   ]
  },
  {
   "cell_type": "code",
   "execution_count": 7,
   "metadata": {},
   "outputs": [
    {
     "data": {
      "image/png": "[encoded data removed]",
      "text/plain": [
       "<Figure size 432x288 with 1 Axes>"
      ]
     },
     "metadata": {
      "needs_background": "light"
     },
     "output_type": "display_data"
    },
    {
     "data": {
      "image/png": "[encoded data removed]",
      "text/plain": [
       "<Figure size 432x288 with 1 Axes>"
      ]
     },
     "metadata": {
      "needs_background": "light"
     },
     "output_type": "display_data"
    }
   ],
   "source": [
    "f3 = count_kmers(data, 3)\n",
    "f4 = count_kmers(data, 4)\n",
    " \n",
    "f3_prob = probabilities(f3, 3)\n",
    "f4_prob = probabilities(f4, 4)\n",
    " \n",
    "chaos_k3 = chaos_game_representation(f3_prob, 3)\n",
    "pylab.title('Chaos game representation for 3-mers')\n",
    "pylab.imshow(chaos_k3, interpolation='nearest', cmap=plt.gray())\n",
    "pylab.show()\n",
    " \n",
    "chaos_k4 = chaos_game_representation(f4_prob, 4)\n",
    "pylab.title('Chaos game representation for 4-mers')\n",
    "pylab.imshow(chaos_k4, interpolation='nearest', cmap=plt.gray())\n",
    "pylab.show()"
   ]
  },
  {
   "cell_type": "markdown",
   "metadata": {},
   "source": [
    "# CGR Scatter plot function"
   ]
  },
  {
   "cell_type": "code",
   "execution_count": 30,
   "metadata": {},
   "outputs": [],
   "source": [
    "def scatterPlt(d):\n",
    "    x = [0]\n",
    "    y = [0]\n",
    "    for i in d:\n",
    "        if(i == 'A'):\n",
    "            x11 = (x[-1]+1)/2\n",
    "            y11 = (y[-1]+1)/2\n",
    "            x.append(x11)\n",
    "            y.append(y11)\n",
    "        elif(i == 'T'):\n",
    "            x11 = (x[-1]-1)/2\n",
    "            y11 = (y[-1]+1)/2\n",
    "            x.append(x11)\n",
    "            y.append(y11)\n",
    "        elif(i == 'C'):\n",
    "            x11 = (x[-1]-1)/2\n",
    "            y11 = (y[-1]-1)/2\n",
    "            x.append(x11)\n",
    "            y.append(y11)\n",
    "        elif(i == 'G'):\n",
    "            x11 = (x[-1]+1)/2\n",
    "            y11 = (y[-1]-1)/2\n",
    "            x.append(x11)\n",
    "            y.append(y11)\n",
    "    return x,y"
   ]
  },
  {
   "cell_type": "code",
   "execution_count": 32,
   "metadata": {},
   "outputs": [
    {
     "data": {
      "text/plain": [
       "<matplotlib.collections.PathCollection at 0x23a8c85c7c0>"
      ]
     },
     "execution_count": 32,
     "metadata": {},
     "output_type": "execute_result"
    },
    {
     "data": {
      "image/png": "[encoded data removed]",
      "text/plain": [
       "<Figure size 432x288 with 1 Axes>"
      ]
     },
     "metadata": {
      "needs_background": "light"
     },
     "output_type": "display_data"
    }
   ],
   "source": [
    "x,y = scatterPlt(data)\n",
    "plt.scatter(x,y)"
   ]
  },
  {
   "cell_type": "markdown",
   "metadata": {},
   "source": [
    "# Data Congruence"
   ]
  },
  {
   "cell_type": "code",
   "execution_count": 34,
   "metadata": {},
   "outputs": [
    {
     "ename": "AttributeError",
     "evalue": "module 'pandas' has no attribute 'read_xslx'",
     "output_type": "error",
     "traceback": [
      "\u001b[1;31m---------------------------------------------------------------------------\u001b[0m",
      "\u001b[1;31mAttributeError\u001b[0m                            Traceback (most recent call last)",
      "\u001b[1;32m<ipython-input-34-1bc4403aaa24>\u001b[0m in \u001b[0;36m<module>\u001b[1;34m\u001b[0m\n\u001b[1;32m----> 1\u001b[1;33m \u001b[0mhelp\u001b[0m\u001b[1;33m(\u001b[0m\u001b[0mpd\u001b[0m\u001b[1;33m.\u001b[0m\u001b[0mread_xslx\u001b[0m\u001b[1;33m)\u001b[0m\u001b[1;33m\u001b[0m\u001b[1;33m\u001b[0m\u001b[0m\n\u001b[0m",
      "\u001b[1;32mc:\\users\\aniru\\appdata\\local\\programs\\python\\python39\\lib\\site-packages\\pandas\\__init__.py\u001b[0m in \u001b[0;36m__getattr__\u001b[1;34m(name)\u001b[0m\n\u001b[0;32m    242\u001b[0m         \u001b[1;32mreturn\u001b[0m \u001b[0m_SparseArray\u001b[0m\u001b[1;33m\u001b[0m\u001b[1;33m\u001b[0m\u001b[0m\n\u001b[0;32m    243\u001b[0m \u001b[1;33m\u001b[0m\u001b[0m\n\u001b[1;32m--> 244\u001b[1;33m     \u001b[1;32mraise\u001b[0m \u001b[0mAttributeError\u001b[0m\u001b[1;33m(\u001b[0m\u001b[1;34mf\"module 'pandas' has no attribute '{name}'\"\u001b[0m\u001b[1;33m)\u001b[0m\u001b[1;33m\u001b[0m\u001b[1;33m\u001b[0m\u001b[0m\n\u001b[0m\u001b[0;32m    245\u001b[0m \u001b[1;33m\u001b[0m\u001b[0m\n\u001b[0;32m    246\u001b[0m \u001b[1;33m\u001b[0m\u001b[0m\n",
      "\u001b[1;31mAttributeError\u001b[0m: module 'pandas' has no attribute 'read_xslx'"
     ]
    }
   ],
   "source": [
    "help(pd.read_xslx)"
   ]
  },
  {
   "cell_type": "code",
   "execution_count": 47,
   "metadata": {},
   "outputs": [],
   "source": [
    "dd = pd.read_csv(r'C:\\Users\\aniru\\Desktop\\Amrita\\Sem 4\\Intelligence of Biological Systems\\Project\\CGR_for_Genome_Sequence\\Sequence_Data\\2019-nCoV.csv', header=None)"
   ]
  },
  {
   "cell_type": "code",
   "execution_count": 48,
   "metadata": {},
   "outputs": [
    {
     "data": {
      "text/html": [
       "<div>\n",
       "<style scoped>\n",
       "    .dataframe tbody tr th:only-of-type {\n",
       "        vertical-align: middle;\n",
       "    }\n",
       "\n",
       "    .dataframe tbody tr th {\n",
       "        vertical-align: top;\n",
       "    }\n",
       "\n",
       "    .dataframe thead th {\n",
       "        text-align: right;\n",
       "    }\n",
       "</style>\n",
       "<table border=\"1\" class=\"dataframe\">\n",
       "  <thead>\n",
       "    <tr style=\"text-align: right;\">\n",
       "      <th></th>\n",
       "      <th>0</th>\n",
       "      <th>1</th>\n",
       "    </tr>\n",
       "  </thead>\n",
       "  <tbody>\n",
       "    <tr>\n",
       "      <th>0</th>\n",
       "      <td>BetaCoV/Wuhan/IVDC-HB-01/2019|EPI_ISL_402119</td>\n",
       "      <td>ATTAAAGGTTTATACCTTCCCAGGTAACAAACCAACCAACTTTCGA...</td>\n",
       "    </tr>\n",
       "    <tr>\n",
       "      <th>1</th>\n",
       "      <td>BetaCoV/Wuhan/WIV07/2019|EPI_ISL_402130</td>\n",
       "      <td>ACCTTCCCAGGTAACAAACCAACCAACTTTCGATCTCTTGTAGATC...</td>\n",
       "    </tr>\n",
       "    <tr>\n",
       "      <th>2</th>\n",
       "      <td>BetaCoV/Wuhan/HBCDC-HB-01/2019|EPI_ISL_402132</td>\n",
       "      <td>ATACCTTCCCAGGTAACAAACCAACCAACTTTCGATCTCTTGTAGA...</td>\n",
       "    </tr>\n",
       "    <tr>\n",
       "      <th>3</th>\n",
       "      <td>BetaCoV/Wuhan/IPBCAMS-WH-05/2020|EPI_ISL_403928</td>\n",
       "      <td>ATTAAAGGTTTATACCTTCCCAGGTAACAAACCAACCAACTTTCGA...</td>\n",
       "    </tr>\n",
       "    <tr>\n",
       "      <th>4</th>\n",
       "      <td>BetaCoV/Wuhan/IPBCAMS-WH-04/2019|EPI_ISL_403929</td>\n",
       "      <td>ATTAAAGGTTTATACCTTCCCAGGTAACAAACCAACCAACTTTCGA...</td>\n",
       "    </tr>\n",
       "    <tr>\n",
       "      <th>5</th>\n",
       "      <td>BetaCoV/Wuhan/IPBCAMS-WH-03/2019|EPI_ISL_403930</td>\n",
       "      <td>ATTAAAGGTTTATACCTTCCCAGGTAACAAACCAACCAACTTTCGA...</td>\n",
       "    </tr>\n",
       "    <tr>\n",
       "      <th>6</th>\n",
       "      <td>BetaCoV/Wuhan/IPBCAMS-WH-02/2019|EPI_ISL_403931</td>\n",
       "      <td>ATTAAAGGTTTATACCTTCCCAGGTAACAAACCAACCAACTTTCGA...</td>\n",
       "    </tr>\n",
       "    <tr>\n",
       "      <th>7</th>\n",
       "      <td>BetaCoV/Guangdong/20SF012/2020|EPI_ISL_403932</td>\n",
       "      <td>ataccttcccaggtaacaaaccaaccaactttcgatctcttgtaga...</td>\n",
       "    </tr>\n",
       "    <tr>\n",
       "      <th>8</th>\n",
       "      <td>BetaCoV/Guangdong/20SF013/2020|EPI_ISL_403933</td>\n",
       "      <td>ataccttcccaggtaacaaaccaaccaactttcgatctcttgtaga...</td>\n",
       "    </tr>\n",
       "    <tr>\n",
       "      <th>9</th>\n",
       "      <td>BetaCoV/Guangdong/20SF014/2020|EPI_ISL_403934</td>\n",
       "      <td>ataccttcccaggtaacaaaccaaccaactttcgatctcttgtaga...</td>\n",
       "    </tr>\n",
       "    <tr>\n",
       "      <th>10</th>\n",
       "      <td>BetaCoV/Guangdong/20SF025/2020|EPI_ISL_403935</td>\n",
       "      <td>ataccttcccaggtaacaaaccaaccaactttcgatctcttgtaga...</td>\n",
       "    </tr>\n",
       "    <tr>\n",
       "      <th>11</th>\n",
       "      <td>BetaCoV/Wuhan/IVDC-HB-04/2020|EPI_ISL_402120</td>\n",
       "      <td>ATTAAAGGTTTATACCTTCCCAGGTAACAAACCAACCAACTTTCGA...</td>\n",
       "    </tr>\n",
       "    <tr>\n",
       "      <th>12</th>\n",
       "      <td>BetaCoV/Guangdong/20SF028/2020|EPI_ISL_403936</td>\n",
       "      <td>ataccttcccaggtaacaaaccaaccaactttcgatctcttgtaga...</td>\n",
       "    </tr>\n",
       "    <tr>\n",
       "      <th>13</th>\n",
       "      <td>BetaCoV/Guangdong/20SF040/2020|EPI_ISL_403937</td>\n",
       "      <td>ataccttcccaggtaacaaaccaaccaactttcgatctcttgtaga...</td>\n",
       "    </tr>\n",
       "    <tr>\n",
       "      <th>14</th>\n",
       "      <td>BetaCoV/Nonthaburi/61/2020|EPI_ISL_403962</td>\n",
       "      <td>ATACCTTCCCAGGTAACAAACCAACCAACTTTCGATCTCTTGTAGA...</td>\n",
       "    </tr>\n",
       "    <tr>\n",
       "      <th>15</th>\n",
       "      <td>BetaCoV/Nonthaburi/74/2020|EPI_ISL_403963</td>\n",
       "      <td>ATACCTTCCCAGGTAACAAACCAACCAACTTTCGATCTCTTGTAGA...</td>\n",
       "    </tr>\n",
       "    <tr>\n",
       "      <th>16</th>\n",
       "      <td>BetaCoV/Zhejiang/WZ-01/2020|EPI_ISL_404227</td>\n",
       "      <td>CCAGGTAACAAGCCAACCAACTTTCGATCTCTTGTAGATCTGTTCT...</td>\n",
       "    </tr>\n",
       "    <tr>\n",
       "      <th>17</th>\n",
       "      <td>BetaCoV/Zhejiang/WZ-02/2020|EPI_ISL_404228</td>\n",
       "      <td>ACAAACCAACCAACTTTCGATCTCTTGTAGATCTGTTCTCTAAACG...</td>\n",
       "    </tr>\n",
       "    <tr>\n",
       "      <th>18</th>\n",
       "      <td>MN908947.3 Severe acute respiratory syndrome c...</td>\n",
       "      <td>ATTAAAGGTTTATACCTTCCCAGGTAACAAACCAACCAACTTTCGA...</td>\n",
       "    </tr>\n",
       "    <tr>\n",
       "      <th>19</th>\n",
       "      <td>BetaCoV/Wuhan/IVDC-HB-05/2019|EPI_ISL_402121</td>\n",
       "      <td>ATTAAAGGTTTATACCTTCCCAGGTAACAAACCAACCAACTTTCGA...</td>\n",
       "    </tr>\n",
       "    <tr>\n",
       "      <th>20</th>\n",
       "      <td>BetaCoV/Wuhan/IPBCAMS-WH-01/2019|EPI_ISL_402123</td>\n",
       "      <td>ATTAAAGGTTTATACCTTCCCAGGTAACAAACCAACCAACTTTCGA...</td>\n",
       "    </tr>\n",
       "    <tr>\n",
       "      <th>21</th>\n",
       "      <td>BetaCoV/Wuhan/WIV04/2019|EPI_ISL_402124</td>\n",
       "      <td>ATTAAAGGTTTATACCTTCCCAGGTAACAAACCAACCAACTTTCGA...</td>\n",
       "    </tr>\n",
       "    <tr>\n",
       "      <th>22</th>\n",
       "      <td>BetaCoV/Wuhan-Hu-1/2019|EPI_ISL_402125</td>\n",
       "      <td>ATTAAAGGTTTATACCTTCCCAGGTAACAAACCAACCAACTTTCGA...</td>\n",
       "    </tr>\n",
       "    <tr>\n",
       "      <th>23</th>\n",
       "      <td>BetaCoV/Wuhan/WIV02/2019|EPI_ISL_402127</td>\n",
       "      <td>AACCAACTTTCGATCTCTTGTAGATCTGTTCTCTAAACGAACTTTA...</td>\n",
       "    </tr>\n",
       "    <tr>\n",
       "      <th>24</th>\n",
       "      <td>BetaCoV/Wuhan/WIV05/2019|EPI_ISL_402128</td>\n",
       "      <td>TACCTTCCCAGGTAACAAACCAACCAACTTTCGATCTCTTGTAGAT...</td>\n",
       "    </tr>\n",
       "    <tr>\n",
       "      <th>25</th>\n",
       "      <td>BetaCoV/Wuhan/WIV06/2019|EPI_ISL_402129</td>\n",
       "      <td>CCTTCCCAGGTAACAAACCAACCAACTTTCGATCTCTTGTAGATCT...</td>\n",
       "    </tr>\n",
       "    <tr>\n",
       "      <th>26</th>\n",
       "      <td>BetaCoV/USA/IL1/2020|EPI_ISL_404253</td>\n",
       "      <td>ATTAAAGGTTTATACCTTCCCAGGTAACAAACCAACCAACTTTCGA...</td>\n",
       "    </tr>\n",
       "    <tr>\n",
       "      <th>27</th>\n",
       "      <td>BetaCoV/USA/WA1/2020|EPI_ISL_404895</td>\n",
       "      <td>ATTAAAGGTTTATACCTTCCCAGGTAACAAACCAACCAACTTTCGA...</td>\n",
       "    </tr>\n",
       "    <tr>\n",
       "      <th>28</th>\n",
       "      <td>BetaCoV/Shenzhen/HKU-SZ-005/2020|EPI_ISL_405839</td>\n",
       "      <td>ATTAAAGGTTTATACCTTCCCAGGTAACAAACCAACCAACTTTCGA...</td>\n",
       "    </tr>\n",
       "  </tbody>\n",
       "</table>\n",
       "</div>"
      ],
      "text/plain": [
       "                                                    0  \\\n",
       "0        BetaCoV/Wuhan/IVDC-HB-01/2019|EPI_ISL_402119   \n",
       "1             BetaCoV/Wuhan/WIV07/2019|EPI_ISL_402130   \n",
       "2       BetaCoV/Wuhan/HBCDC-HB-01/2019|EPI_ISL_402132   \n",
       "3     BetaCoV/Wuhan/IPBCAMS-WH-05/2020|EPI_ISL_403928   \n",
       "4     BetaCoV/Wuhan/IPBCAMS-WH-04/2019|EPI_ISL_403929   \n",
       "5     BetaCoV/Wuhan/IPBCAMS-WH-03/2019|EPI_ISL_403930   \n",
       "6     BetaCoV/Wuhan/IPBCAMS-WH-02/2019|EPI_ISL_403931   \n",
       "7       BetaCoV/Guangdong/20SF012/2020|EPI_ISL_403932   \n",
       "8       BetaCoV/Guangdong/20SF013/2020|EPI_ISL_403933   \n",
       "9       BetaCoV/Guangdong/20SF014/2020|EPI_ISL_403934   \n",
       "10      BetaCoV/Guangdong/20SF025/2020|EPI_ISL_403935   \n",
       "11       BetaCoV/Wuhan/IVDC-HB-04/2020|EPI_ISL_402120   \n",
       "12      BetaCoV/Guangdong/20SF028/2020|EPI_ISL_403936   \n",
       "13      BetaCoV/Guangdong/20SF040/2020|EPI_ISL_403937   \n",
       "14          BetaCoV/Nonthaburi/61/2020|EPI_ISL_403962   \n",
       "15          BetaCoV/Nonthaburi/74/2020|EPI_ISL_403963   \n",
       "16         BetaCoV/Zhejiang/WZ-01/2020|EPI_ISL_404227   \n",
       "17         BetaCoV/Zhejiang/WZ-02/2020|EPI_ISL_404228   \n",
       "18  MN908947.3 Severe acute respiratory syndrome c...   \n",
       "19       BetaCoV/Wuhan/IVDC-HB-05/2019|EPI_ISL_402121   \n",
       "20    BetaCoV/Wuhan/IPBCAMS-WH-01/2019|EPI_ISL_402123   \n",
       "21            BetaCoV/Wuhan/WIV04/2019|EPI_ISL_402124   \n",
       "22             BetaCoV/Wuhan-Hu-1/2019|EPI_ISL_402125   \n",
       "23            BetaCoV/Wuhan/WIV02/2019|EPI_ISL_402127   \n",
       "24            BetaCoV/Wuhan/WIV05/2019|EPI_ISL_402128   \n",
       "25            BetaCoV/Wuhan/WIV06/2019|EPI_ISL_402129   \n",
       "26                BetaCoV/USA/IL1/2020|EPI_ISL_404253   \n",
       "27                BetaCoV/USA/WA1/2020|EPI_ISL_404895   \n",
       "28    BetaCoV/Shenzhen/HKU-SZ-005/2020|EPI_ISL_405839   \n",
       "\n",
       "                                                    1  \n",
       "0   ATTAAAGGTTTATACCTTCCCAGGTAACAAACCAACCAACTTTCGA...  \n",
       "1   ACCTTCCCAGGTAACAAACCAACCAACTTTCGATCTCTTGTAGATC...  \n",
       "2   ATACCTTCCCAGGTAACAAACCAACCAACTTTCGATCTCTTGTAGA...  \n",
       "3   ATTAAAGGTTTATACCTTCCCAGGTAACAAACCAACCAACTTTCGA...  \n",
       "4   ATTAAAGGTTTATACCTTCCCAGGTAACAAACCAACCAACTTTCGA...  \n",
       "5   ATTAAAGGTTTATACCTTCCCAGGTAACAAACCAACCAACTTTCGA...  \n",
       "6   ATTAAAGGTTTATACCTTCCCAGGTAACAAACCAACCAACTTTCGA...  \n",
       "7   ataccttcccaggtaacaaaccaaccaactttcgatctcttgtaga...  \n",
       "8   ataccttcccaggtaacaaaccaaccaactttcgatctcttgtaga...  \n",
       "9   ataccttcccaggtaacaaaccaaccaactttcgatctcttgtaga...  \n",
       "10  ataccttcccaggtaacaaaccaaccaactttcgatctcttgtaga...  \n",
       "11  ATTAAAGGTTTATACCTTCCCAGGTAACAAACCAACCAACTTTCGA...  \n",
       "12  ataccttcccaggtaacaaaccaaccaactttcgatctcttgtaga...  \n",
       "13  ataccttcccaggtaacaaaccaaccaactttcgatctcttgtaga...  \n",
       "14  ATACCTTCCCAGGTAACAAACCAACCAACTTTCGATCTCTTGTAGA...  \n",
       "15  ATACCTTCCCAGGTAACAAACCAACCAACTTTCGATCTCTTGTAGA...  \n",
       "16  CCAGGTAACAAGCCAACCAACTTTCGATCTCTTGTAGATCTGTTCT...  \n",
       "17  ACAAACCAACCAACTTTCGATCTCTTGTAGATCTGTTCTCTAAACG...  \n",
       "18  ATTAAAGGTTTATACCTTCCCAGGTAACAAACCAACCAACTTTCGA...  \n",
       "19  ATTAAAGGTTTATACCTTCCCAGGTAACAAACCAACCAACTTTCGA...  \n",
       "20  ATTAAAGGTTTATACCTTCCCAGGTAACAAACCAACCAACTTTCGA...  \n",
       "21  ATTAAAGGTTTATACCTTCCCAGGTAACAAACCAACCAACTTTCGA...  \n",
       "22  ATTAAAGGTTTATACCTTCCCAGGTAACAAACCAACCAACTTTCGA...  \n",
       "23  AACCAACTTTCGATCTCTTGTAGATCTGTTCTCTAAACGAACTTTA...  \n",
       "24  TACCTTCCCAGGTAACAAACCAACCAACTTTCGATCTCTTGTAGAT...  \n",
       "25  CCTTCCCAGGTAACAAACCAACCAACTTTCGATCTCTTGTAGATCT...  \n",
       "26  ATTAAAGGTTTATACCTTCCCAGGTAACAAACCAACCAACTTTCGA...  \n",
       "27  ATTAAAGGTTTATACCTTCCCAGGTAACAAACCAACCAACTTTCGA...  \n",
       "28  ATTAAAGGTTTATACCTTCCCAGGTAACAAACCAACCAACTTTCGA...  "
      ]
     },
     "execution_count": 48,
     "metadata": {},
     "output_type": "execute_result"
    }
   ],
   "source": [
    "dd"
   ]
  }
 ],
 "metadata": {
  "kernelspec": {
   "display_name": "Python 3",
   "language": "python",
   "name": "python3"
  },
  "language_info": {
   "codemirror_mode": {
    "name": "ipython",
    "version": 3
   },
   "file_extension": ".py",
   "mimetype": "text/x-python",
   "name": "python",
   "nbconvert_exporter": "python",
   "pygments_lexer": "ipython3",
   "version": "3.9.1"
  }
 },
 "nbformat": 4,
 "nbformat_minor": 2
}
