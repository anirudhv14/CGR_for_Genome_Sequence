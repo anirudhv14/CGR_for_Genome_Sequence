{
 "cells": [
  {
   "cell_type": "markdown",
   "id": "9e2623aa",
   "metadata": {},
   "source": [
    "# Chaos Game Representation\n",
    "Team:<br>\n",
    "ADITHYAN S<br>\n",
    "ANIRUDH V<br>\n",
    "ARJUN A<br>\n",
    "RAJATH R<br>"
   ]
  },
  {
   "cell_type": "code",
   "execution_count": null,
   "id": "12500402",
   "metadata": {},
   "outputs": [],
   "source": []
  }
 ],
 "metadata": {
  "kernelspec": {
   "display_name": "Python 3",
   "language": "python",
   "name": "python3"
  },
  "language_info": {
   "codemirror_mode": {
    "name": "ipython",
    "version": 3
   },
   "file_extension": ".py",
   "mimetype": "text/x-python",
   "name": "python",
   "nbconvert_exporter": "python",
   "pygments_lexer": "ipython3",
   "version": "3.9.1"
  }
 },
 "nbformat": 4,
 "nbformat_minor": 5
}
